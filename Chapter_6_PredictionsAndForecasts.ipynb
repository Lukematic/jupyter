{
 "cells": [
  {
   "cell_type": "code",
   "execution_count": 5,
   "metadata": {
    "collapsed": true
   },
   "outputs": [],
   "source": [
    "#install.packages(\"openxslx\")\n",
    "#install.packages(\"tsibble\")\n",
    "#install.packages(\"fable\")\n",
    "#install.packages('gtrendsR')"
   ]
  },
  {
   "cell_type": "markdown",
   "metadata": {},
   "source": [
    "## Twitter data and regression analysis  \n"
   ]
  },
  {
   "cell_type": "code",
   "execution_count": 6,
   "metadata": {},
   "outputs": [],
   "source": [
    "library ('openxlsx')\n",
    "TwitterData <- read.xlsx(\"https://raw.githubusercontent.com/dpstuart/jupyter/master/RusselGroupTwitter.xlsx\", startRow=2)"
   ]
  },
  {
   "cell_type": "code",
   "execution_count": 7,
   "metadata": {},
   "outputs": [
    {
     "data": {
      "text/html": [
       "-0.0749983018202858"
      ],
      "text/latex": [
       "-0.0749983018202858"
      ],
      "text/markdown": [
       "-0.0749983018202858"
      ],
      "text/plain": [
       "[1] -0.0749983"
      ]
     },
     "metadata": {},
     "output_type": "display_data"
    }
   ],
   "source": [
    "cor(TwitterData[[\"Tweets\"]], TwitterData[[\"Followers\"]])"
   ]
  },
  {
   "cell_type": "code",
   "execution_count": 8,
   "metadata": {},
   "outputs": [
    {
     "data": {
      "image/png": "[encoded data removed]",
      "text/plain": [
       "plot without title"
      ]
     },
     "metadata": {},
     "output_type": "display_data"
    }
   ],
   "source": [
    "#Scatter plot of Twitter Data - options sets the size of the plot\n",
    "options(repr.plot.width=4, repr.plot.height=3)\n",
    "plot(TwitterData[['Following']], TwitterData[['Followers']])\n"
   ]
  },
  {
   "cell_type": "code",
   "execution_count": 9,
   "metadata": {},
   "outputs": [
    {
     "data": {
      "text/plain": [
       "\n",
       "Call:\n",
       "lm(formula = withoutOxCam[[\"Followers\"]] ~ withoutOxCam[[\"Following\"]])\n",
       "\n",
       "Residuals:\n",
       "   Min     1Q Median     3Q    Max \n",
       "-39393 -11602  -2697  15489  41602 \n",
       "\n",
       "Coefficients:\n",
       "                             Estimate Std. Error t value Pr(>|t|)    \n",
       "(Intercept)                 65251.415   8177.439   7.979 1.21e-07 ***\n",
       "withoutOxCam[[\"Following\"]]     7.405      4.369   1.695    0.106    \n",
       "---\n",
       "Signif. codes:  0 '***' 0.001 '**' 0.01 '*' 0.05 '.' 0.1 ' ' 1\n",
       "\n",
       "Residual standard error: 22890 on 20 degrees of freedom\n",
       "Multiple R-squared:  0.1256,\tAdjusted R-squared:  0.08186 \n",
       "F-statistic: 2.872 on 1 and 20 DF,  p-value: 0.1056\n"
      ]
     },
     "metadata": {},
     "output_type": "display_data"
    }
   ],
   "source": [
    "withoutOxCam <- TwitterData[-c(3,17),] \n",
    "model<-lm(withoutOxCam[[\"Followers\"]]~withoutOxCam[[\"Following\"]]) \n",
    "summary(model)"
   ]
  },
  {
   "cell_type": "code",
   "execution_count": 10,
   "metadata": {},
   "outputs": [
    {
     "data": {
      "image/png": "[encoded data removed]",
      "text/plain": [
       "plot without title"
      ]
     },
     "metadata": {},
     "output_type": "display_data"
    }
   ],
   "source": [
    "options(repr.plot.width=7, repr.plot.height=5)\n",
    "par(mfrow=c(2,2)) \n",
    "\n",
    "#joined\n",
    "plot(withoutOxCam[['Joined']], withoutOxCam[['Followers']],   xlab=\"Joined\", ylab=\"Followers\")\n",
    "model<-lm(withoutOxCam[[\"Followers\"]]~withoutOxCam[[\"Joined\"]]) \n",
    "abline(model, col=2, lwd=3)\n",
    "\n",
    "#following\n",
    "plot(withoutOxCam[['Following']], withoutOxCam[['Followers']],   xlab=\"Following\", ylab=\"Followers\")\n",
    "model<-lm(withoutOxCam[[\"Followers\"]]~withoutOxCam[[\"Following\"]]) \n",
    "abline(model, col=2, lwd=3)\n",
    "\n",
    "#tweets\n",
    "plot(withoutOxCam[['Tweets']], withoutOxCam[['Followers']],   xlab=\"Tweets\", ylab=\"Followers\")\n",
    "model<-lm(withoutOxCam[[\"Followers\"]]~withoutOxCam[[\"Tweets\"]]) \n",
    "abline(model, col=2, lwd=3)\n",
    "\n",
    "#students\n",
    "plot(withoutOxCam[['Students']], withoutOxCam[['Followers']],   xlab=\"Students\", ylab=\"Followers\")\n",
    "model<-lm(withoutOxCam[[\"Followers\"]]~withoutOxCam[[\"Students\"]]) \n",
    "abline(model, col=2, lwd=3)\n"
   ]
  },
  {
   "cell_type": "markdown",
   "metadata": {},
   "source": [
    "## Multiple regression analysis"
   ]
  },
  {
   "cell_type": "code",
   "execution_count": 11,
   "metadata": {},
   "outputs": [],
   "source": [
    "#convert Joined data - 43722 is the Excel 'date' of the day the data was collected. \n",
    "withoutOxCam[[\"daysJoined\"]] <- 43722-withoutOxCam[[\"Joined\"]]\n"
   ]
  },
  {
   "cell_type": "code",
   "execution_count": 12,
   "metadata": {},
   "outputs": [
    {
     "data": {
      "text/plain": [
       "\n",
       "Call:\n",
       "lm(formula = withoutOxCam[[\"Followers\"]] ~ withoutOxCam[[\"daysJoined\"]] + \n",
       "    withoutOxCam[[\"Following\"]] + withoutOxCam[[\"Tweets\"]] + \n",
       "    withoutOxCam[[\"Students\"]])\n",
       "\n",
       "Residuals:\n",
       "   Min     1Q Median     3Q    Max \n",
       "-35516 -14264   1501  13019  37719 \n",
       "\n",
       "Coefficients:\n",
       "                               Estimate Std. Error t value Pr(>|t|)  \n",
       "(Intercept)                  -4.124e+04  4.820e+04  -0.856   0.4041  \n",
       "withoutOxCam[[\"daysJoined\"]]  2.049e+01  1.133e+01   1.808   0.0884 .\n",
       "withoutOxCam[[\"Following\"]]   6.610e+00  4.399e+00   1.503   0.1513  \n",
       "withoutOxCam[[\"Tweets\"]]      2.553e-03  5.679e-01   0.004   0.9965  \n",
       "withoutOxCam[[\"Students\"]]    1.161e+00  6.791e-01   1.709   0.1056  \n",
       "---\n",
       "Signif. codes:  0 '***' 0.001 '**' 0.01 '*' 0.05 '.' 0.1 ' ' 1\n",
       "\n",
       "Residual standard error: 21640 on 17 degrees of freedom\n",
       "Multiple R-squared:  0.3359,\tAdjusted R-squared:  0.1797 \n",
       "F-statistic:  2.15 on 4 and 17 DF,  p-value: 0.1188\n"
      ]
     },
     "metadata": {},
     "output_type": "display_data"
    }
   ],
   "source": [
    "model<-lm(withoutOxCam[[\"Followers\"]]~withoutOxCam[[\"daysJoined\"]]\n",
    "          +withoutOxCam[[\"Following\"]]+withoutOxCam[[\"Tweets\"]]\n",
    "          +withoutOxCam[[\"Students\"]]) \n",
    "summary(model)\n"
   ]
  },
  {
   "cell_type": "markdown",
   "metadata": {
    "collapsed": true
   },
   "source": [
    "## Exponential Smoothing"
   ]
  },
  {
   "cell_type": "markdown",
   "metadata": {},
   "source": [
    "### Simple exponential smoothing"
   ]
  },
  {
   "cell_type": "code",
   "execution_count": 13,
   "metadata": {},
   "outputs": [
    {
     "name": "stderr",
     "output_type": "stream",
     "text": [
      "Warning message:\n",
      "\"package 'tsibble' was built under R version 3.6.1\"Warning message:\n",
      "\"package 'fable' was built under R version 3.6.1\"Loading required package: fabletools\n",
      "Warning message:\n",
      "\"package 'fabletools' was built under R version 3.6.1\"Registered S3 methods overwritten by 'ggplot2':\n",
      "  method         from \n",
      "  [.quosures     rlang\n",
      "  c.quosures     rlang\n",
      "  print.quosures rlang\n"
     ]
    }
   ],
   "source": [
    "library ('openxlsx')\n",
    "library ('tsibble')\n",
    "library ('fable')\n",
    "BLdata <- read.xlsx(\"https://raw.githubusercontent.com/dpstuart/jupyter/master/BritishLibraryVisitors.xlsx\")\n",
    "BLts<-as_tsibble(BLdata, index=Year)"
   ]
  },
  {
   "cell_type": "code",
   "execution_count": 15,
   "metadata": {},
   "outputs": [
    {
     "name": "stdout",
     "output_type": "stream",
     "text": [
      "Series: Visitors \n",
      "Model: ETS(A,N,N) \n",
      "  Smoothing parameters:\n",
      "    alpha = 0.9767139 \n",
      "\n",
      "  Initial states:\n",
      "       l\n",
      " 1114885\n",
      "\n",
      "  sigma^2:  9382911512\n",
      "\n",
      "     AIC     AICc      BIC \n",
      "362.2589 364.6589 364.1760 \n"
     ]
    }
   ],
   "source": [
    "fit <- model(BLts, ETS(Visitors))\n",
    "report(fit)"
   ]
  },
  {
   "cell_type": "code",
   "execution_count": 16,
   "metadata": {},
   "outputs": [
    {
     "data": {
      "text/html": [
       "<table>\n",
       "<thead><tr><th scope=col>.model</th><th scope=col>Year</th><th scope=col>Visitors</th><th scope=col>.distribution</th></tr></thead>\n",
       "<tbody>\n",
       "\t<tr><td>ETS(Visitors ~ error(\"A\") + trend(\"N\", alpha = 0.977) + season(\"N\"))</td><td>2019                                                                </td><td>1437617                                                             </td><td>N(1437617, 9.4e+09)                                                 </td></tr>\n",
       "\t<tr><td>ETS(Visitors ~ error(\"A\") + trend(\"N\", alpha = 0.977) + season(\"N\"))</td><td>2020                                                                </td><td>1437617                                                             </td><td>N(1437617, 1.8e+10)                                                 </td></tr>\n",
       "</tbody>\n",
       "</table>\n"
      ],
      "text/latex": [
       "\\begin{tabular}{r|llll}\n",
       " .model & Year & Visitors & .distribution\\\\\n",
       "\\hline\n",
       "\t ETS(Visitors \\textasciitilde{} error(\"A\") + trend(\"N\", alpha = 0.977) + season(\"N\")) & 2019                                                                                  & 1437617                                                                               & N(1437617, 9.4e+09)                                                                  \\\\\n",
       "\t ETS(Visitors \\textasciitilde{} error(\"A\") + trend(\"N\", alpha = 0.977) + season(\"N\")) & 2020                                                                                  & 1437617                                                                               & N(1437617, 1.8e+10)                                                                  \\\\\n",
       "\\end{tabular}\n"
      ],
      "text/markdown": [
       "\n",
       "| .model | Year | Visitors | .distribution |\n",
       "|---|---|---|---|\n",
       "| ETS(Visitors ~ error(\"A\") + trend(\"N\", alpha = 0.977) + season(\"N\")) | 2019                                                                 | 1437617                                                              | N(1437617, 9.4e+09)                                                  |\n",
       "| ETS(Visitors ~ error(\"A\") + trend(\"N\", alpha = 0.977) + season(\"N\")) | 2020                                                                 | 1437617                                                              | N(1437617, 1.8e+10)                                                  |\n",
       "\n"
      ],
      "text/plain": [
       "  .model                                                               Year\n",
       "1 ETS(Visitors ~ error(\"A\") + trend(\"N\", alpha = 0.977) + season(\"N\")) 2019\n",
       "2 ETS(Visitors ~ error(\"A\") + trend(\"N\", alpha = 0.977) + season(\"N\")) 2020\n",
       "  Visitors .distribution      \n",
       "1 1437617  N(1437617, 9.4e+09)\n",
       "2 1437617  N(1437617, 1.8e+10)"
      ]
     },
     "metadata": {},
     "output_type": "display_data"
    }
   ],
   "source": [
    "fit <- model(BLts, ETS(Visitors ~ error(\"A\") + trend(\"N\", alpha=0.977)\n",
    "        + season(\"N\")))\n",
    "forecast(fit)"
   ]
  },
  {
   "cell_type": "markdown",
   "metadata": {},
   "source": [
    "### Triple Exponential Smoothing with Google Trends"
   ]
  },
  {
   "cell_type": "code",
   "execution_count": 17,
   "metadata": {},
   "outputs": [
    {
     "name": "stderr",
     "output_type": "stream",
     "text": [
      "Warning message:\n",
      "\"package 'gtrendsR' was built under R version 3.6.1\""
     ]
    }
   ],
   "source": [
    "library (gtrendsR)\n",
    "library (tsibble)\n",
    "library (fable)\n",
    "searches <- gtrends(\"summer reading challenge\", geo = \"GB\", time=\"all\")"
   ]
  },
  {
   "cell_type": "code",
   "execution_count": 18,
   "metadata": {
    "collapsed": true
   },
   "outputs": [],
   "source": [
    "searchesDF<-data.frame(searches$interest_over_time)\n",
    "searchesDF$date<- yearmonth(searchesDF$date)"
   ]
  },
  {
   "cell_type": "code",
   "execution_count": 22,
   "metadata": {},
   "outputs": [],
   "source": [
    "searchesTS<-as_tsibble(searchesDF, index = date)\n",
    "fit <- model(searchesTS, ETS(hits))\n",
    "future<-forecast(fit)"
   ]
  },
  {
   "cell_type": "code",
   "execution_count": 23,
   "metadata": {},
   "outputs": [
    {
     "data": {
      "image/png": "[encoded data removed]",
      "text/plain": [
       "plot without title"
      ]
     },
     "metadata": {},
     "output_type": "display_data"
    }
   ],
   "source": [
    "autoplot(future, searchesTS)\n"
   ]
  },
  {
   "cell_type": "code",
   "execution_count": null,
   "metadata": {
    "collapsed": true
   },
   "outputs": [],
   "source": []
  }
 ],
 "metadata": {
  "kernelspec": {
   "display_name": "R [conda env:rAlso]",
   "language": "R",
   "name": "conda-env-rAlso-r"
  },
  "language_info": {
   "codemirror_mode": "r",
   "file_extension": ".r",
   "mimetype": "text/x-r-source",
   "name": "R",
   "pygments_lexer": "r",
   "version": "3.6.0"
  }
 },
 "nbformat": 4,
 "nbformat_minor": 2
}
